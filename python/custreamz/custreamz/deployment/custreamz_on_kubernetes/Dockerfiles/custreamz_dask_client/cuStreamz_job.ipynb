{
 "cells": [
  {
   "cell_type": "code",
   "execution_count": null,
   "metadata": {},
   "outputs": [],
   "source": [
    "from distributed import Client\n",
    "client = Client(\"dask_scheduler:8786\")\n",
    "client.get_versions(check=True)\n",
    "client"
   ]
  },
  {
   "cell_type": "code",
   "execution_count": null,
   "metadata": {},
   "outputs": [],
   "source": [
    "###### Please write your cuStreamz job below ####"
   ]
  },
  {
   "cell_type": "code",
   "execution_count": null,
   "metadata": {},
   "outputs": [],
   "source": [
    "from streamz import Stream\n",
    "import numpy as np\n",
    "from streamz.dataframe import DataFrame\n",
    "import time\n",
    "import math\n",
    "import confluent_kafka\n",
    "import json\n",
    "import os"
   ]
  },
  {
   "cell_type": "code",
   "execution_count": null,
   "metadata": {},
   "outputs": [],
   "source": [
    "def gpu_preprocess_simple_agg(messages):\n",
    "    import cudf\n",
    "    preprocess_start_time = int(round(time.time()))\n",
    "    size = len(messages)*len(messages[0])    \n",
    "    json_input_string = \"\\n\".join([msg.decode('utf-8') for msg in messages])\n",
    "    pre_gpu_timestamp = int(round(time.time()))\n",
    "    gdf = cudf.read_json(json_input_string, lines=True, engine='cudf')\n",
    "    preprocess_end_time = int(round(time.time()))\n",
    "    gdf['Count'] = 1\n",
    "    num_rows = gdf['Count'].sum()\n",
    "    gdf1 = gdf.groupby(['AppId0']).mean()\n",
    "    agg_end_time = int(round(time.time()))\n",
    "    return \"{0},{1},{2},{3},{4},{5}\".format(num_rows, preprocess_start_time, \\\n",
    "                                            pre_gpu_timestamp, preprocess_end_time, agg_end_time, size)"
   ]
  },
  {
   "cell_type": "code",
   "execution_count": null,
   "metadata": {},
   "outputs": [],
   "source": [
    "topic = \"custreamz-topic\"\n",
    "\n",
    "#Enter Kafka Pod's IP\n",
    "bootstrap_servers = 'localhost:9092'\n",
    "\n",
    "consumer_conf = {'bootstrap.servers': bootstrap_servers, \\\n",
    "                 'group.id': 'custreamz', 'session.timeout.ms': 60000}\n",
    "\n",
    "stream = Stream.from_kafka_batched(topic, consumer_conf, poll_interval='5s', \\\n",
    "                                   npartitions=32, asynchronous = True, dask= True)\n",
    "\n",
    "final_output = stream.map(gpu_preprocess_simple_agg).buffer(10000).gather().sink_to_list()\n",
    "\n",
    "stream.start()"
   ]
  },
  {
   "cell_type": "code",
   "execution_count": null,
   "metadata": {},
   "outputs": [],
   "source": [
    "final_output"
   ]
  },
  {
   "cell_type": "code",
   "execution_count": null,
   "metadata": {},
   "outputs": [],
   "source": [
    "stream.destroy()"
   ]
  }
 ],
 "metadata": {
  "kernelspec": {
   "display_name": "cudf_0.8",
   "language": "python",
   "name": "cudf_0.8"
  },
  "language_info": {
   "codemirror_mode": {
    "name": "ipython",
    "version": 3
   },
   "file_extension": ".py",
   "mimetype": "text/x-python",
   "name": "python",
   "nbconvert_exporter": "python",
   "pygments_lexer": "ipython3",
   "version": "3.7.3"
  }
 },
 "nbformat": 4,
 "nbformat_minor": 2
}
